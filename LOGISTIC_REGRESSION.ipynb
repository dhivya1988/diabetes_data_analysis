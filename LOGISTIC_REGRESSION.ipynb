{
 "cells": [
  {
   "cell_type": "markdown",
   "metadata": {},
   "source": [
    "# IMPORT LIBRARIES"
   ]
  },
  {
   "cell_type": "code",
   "execution_count": 1,
   "metadata": {},
   "outputs": [],
   "source": [
    "import pandas as pd\n",
    "import numpy as np\n",
    "import matplotlib.pyplot as plt\n",
    "import seaborn as sns\n",
    "from sklearn.model_selection import train_test_split\n",
    "from sklearn.linear_model import LogisticRegression\n",
    "from sklearn.metrics import accuracy_score, classification_report, confusion_matrix"
   ]
  },
  {
   "cell_type": "markdown",
   "metadata": {},
   "source": [
    "# IMPORT DATASET"
   ]
  },
  {
   "cell_type": "code",
   "execution_count": 2,
   "metadata": {},
   "outputs": [],
   "source": [
    "file_path = 'C:\\\\Users\\\\Nithya\\\\Desktop\\\\Major project\\\\Dataset\\\\diabetes_012_health_indicators_BRFSS2015.csv'\n",
    "df = pd.read_csv(file_path)"
   ]
  },
  {
   "cell_type": "markdown",
   "metadata": {},
   "source": [
    "# DOWNSAMPLING"
   ]
  },
  {
   "cell_type": "code",
   "execution_count": 3,
   "metadata": {},
   "outputs": [
    {
     "name": "stdout",
     "output_type": "stream",
     "text": [
      "        Diabetes_012  HighBP  HighChol  CholCheck   BMI  Smoker  Stroke  \\\n",
      "162288           0.0     0.0       0.0        1.0  24.0     0.0     0.0   \n",
      "227646           0.0     1.0       0.0        1.0  32.0     1.0     0.0   \n",
      "888              0.0     1.0       1.0        1.0  28.0     0.0     0.0   \n",
      "230094           0.0     1.0       1.0        1.0  28.0     0.0     0.0   \n",
      "134829           0.0     0.0       0.0        1.0  35.0     0.0     0.0   \n",
      "...              ...     ...       ...        ...   ...     ...     ...   \n",
      "66672            2.0     1.0       1.0        1.0  35.0     1.0     0.0   \n",
      "42017            2.0     1.0       1.0        1.0  32.0     1.0     1.0   \n",
      "67332            2.0     0.0       0.0        1.0  26.0     1.0     0.0   \n",
      "251948           2.0     0.0       1.0        1.0  26.0     0.0     0.0   \n",
      "171966           2.0     1.0       0.0        1.0  29.0     0.0     0.0   \n",
      "\n",
      "        HeartDiseaseorAttack  PhysActivity  Fruits  ...  AnyHealthcare  \\\n",
      "162288                   0.0           0.0     0.0  ...            1.0   \n",
      "227646                   0.0           1.0     1.0  ...            1.0   \n",
      "888                      0.0           1.0     1.0  ...            1.0   \n",
      "230094                   0.0           1.0     1.0  ...            1.0   \n",
      "134829                   0.0           0.0     0.0  ...            1.0   \n",
      "...                      ...           ...     ...  ...            ...   \n",
      "66672                    0.0           0.0     0.0  ...            1.0   \n",
      "42017                    1.0           1.0     0.0  ...            1.0   \n",
      "67332                    0.0           0.0     0.0  ...            1.0   \n",
      "251948                   0.0           0.0     0.0  ...            1.0   \n",
      "171966                   0.0           0.0     1.0  ...            1.0   \n",
      "\n",
      "        NoDocbcCost  GenHlth  MentHlth  PhysHlth  DiffWalk  Sex   Age  \\\n",
      "162288          0.0      4.0       0.0      15.0       1.0  0.0   9.0   \n",
      "227646          0.0      3.0       0.0       0.0       0.0  0.0   8.0   \n",
      "888             0.0      3.0       1.0       0.0       0.0  0.0   9.0   \n",
      "230094          0.0      1.0       0.0       0.0       0.0  1.0   9.0   \n",
      "134829          0.0      3.0      10.0       2.0       0.0  0.0   6.0   \n",
      "...             ...      ...       ...       ...       ...  ...   ...   \n",
      "66672           0.0      4.0      12.0      25.0       1.0  1.0   9.0   \n",
      "42017           0.0      5.0       3.0      25.0       0.0  0.0  12.0   \n",
      "67332           0.0      4.0       0.0       5.0       0.0  1.0   9.0   \n",
      "251948          0.0      5.0       0.0       0.0       1.0  0.0  13.0   \n",
      "171966          0.0      2.0       0.0       0.0       0.0  0.0  13.0   \n",
      "\n",
      "        Education  Income  \n",
      "162288        5.0     5.0  \n",
      "227646        6.0     8.0  \n",
      "888           6.0     6.0  \n",
      "230094        6.0     8.0  \n",
      "134829        4.0     8.0  \n",
      "...           ...     ...  \n",
      "66672         5.0     7.0  \n",
      "42017         4.0     2.0  \n",
      "67332         6.0     3.0  \n",
      "251948        2.0     1.0  \n",
      "171966        5.0     4.0  \n",
      "\n",
      "[13893 rows x 22 columns]\n"
     ]
    }
   ],
   "source": [
    "target_variable = 'Diabetes_012'\n",
    "class_0 = df[df[target_variable] == 0]\n",
    "class_1 = df[df[target_variable] == 1]\n",
    "class_2 = df[df[target_variable] == 2]\n",
    "downsampled_size = 4631\n",
    "class_0_downsampled = class_0.sample(n=downsampled_size, random_state=42)\n",
    "class_1_downsampled = class_1.sample(n=downsampled_size, random_state=42)\n",
    "class_2_downsampled = class_2.sample(n=downsampled_size, random_state=42)\n",
    "f_downsampled = pd.concat([class_0_downsampled, class_1_downsampled, class_2_downsampled])\n",
    "print(f_downsampled)"
   ]
  },
  {
   "cell_type": "markdown",
   "metadata": {},
   "source": [
    "# DOWNSAMPLED COUNT"
   ]
  },
  {
   "cell_type": "code",
   "execution_count": 4,
   "metadata": {},
   "outputs": [
    {
     "name": "stdout",
     "output_type": "stream",
     "text": [
      "Class Distribution in Downsampled Data:\n",
      "Diabetes_012\n",
      "0.0    4631\n",
      "1.0    4631\n",
      "2.0    4631\n",
      "Name: count, dtype: int64\n",
      "Unique Classes in Downsampled Data: [0. 1. 2.]\n",
      "Class Distribution in Downsampled Data: Diabetes_012\n",
      "0.0    4631\n",
      "1.0    4631\n",
      "2.0    4631\n",
      "Name: count, dtype: int64\n"
     ]
    }
   ],
   "source": [
    "print(\"Class Distribution in Downsampled Data:\")\n",
    "print(f_downsampled[target_variable].value_counts())\n",
    "print(\"Unique Classes in Downsampled Data:\", f_downsampled[target_variable].unique())\n",
    "print(\"Class Distribution in Downsampled Data:\", f_downsampled[target_variable].value_counts())"
   ]
  },
  {
   "cell_type": "markdown",
   "metadata": {},
   "source": [
    "# DATA SPLIT"
   ]
  },
  {
   "cell_type": "code",
   "execution_count": 5,
   "metadata": {},
   "outputs": [],
   "source": [
    "X = f_downsampled.drop(target_variable, axis=1)  \n",
    "y = f_downsampled[target_variable] \n",
    "test_size = 0.2  \n",
    "train_size = 0.8\n",
    "X_train, X_test, y_train, y_test = train_test_split(X, y, test_size=test_size, train_size=train_size , stratify=y)\n"
   ]
  },
  {
   "cell_type": "markdown",
   "metadata": {},
   "source": [
    "# Logistic Regression"
   ]
  },
  {
   "cell_type": "code",
   "execution_count": 6,
   "metadata": {},
   "outputs": [
    {
     "name": "stdout",
     "output_type": "stream",
     "text": [
      "Predicted labels for the test set: [2. 0. 2. ... 0. 2. 2.]\n",
      "Accuracy: 51.49334292911119 %\n",
      "Confusion Matrix:\n",
      " [[588 182 157]\n",
      " [259 321 346]\n",
      " [171 233 522]]\n",
      "Classification Report:\n",
      "               precision    recall  f1-score   support\n",
      "\n",
      "         0.0       0.58      0.63      0.60       927\n",
      "         1.0       0.44      0.35      0.39       926\n",
      "         2.0       0.51      0.56      0.54       926\n",
      "\n",
      "    accuracy                           0.51      2779\n",
      "   macro avg       0.51      0.51      0.51      2779\n",
      "weighted avg       0.51      0.51      0.51      2779\n",
      "\n"
     ]
    },
    {
     "name": "stderr",
     "output_type": "stream",
     "text": [
      "C:\\Users\\Nithya\\AppData\\Local\\Packages\\PythonSoftwareFoundation.Python.3.11_qbz5n2kfra8p0\\LocalCache\\local-packages\\Python311\\site-packages\\sklearn\\linear_model\\_logistic.py:444: ConvergenceWarning: lbfgs failed to converge (status=1):\n",
      "STOP: TOTAL NO. of ITERATIONS REACHED LIMIT.\n",
      "\n",
      "Increase the number of iterations (max_iter) or scale the data as shown in:\n",
      "    https://scikit-learn.org/stable/modules/preprocessing.html\n",
      "Please also refer to the documentation for alternative solver options:\n",
      "    https://scikit-learn.org/stable/modules/linear_model.html#logistic-regression\n",
      "  n_iter_i = _check_optimize_result(\n"
     ]
    }
   ],
   "source": [
    "Logistic_Regression = LogisticRegression(random_state=42)\n",
    "Logistic_Regression.fit(X_train, y_train)\n",
    "y_pred = Logistic_Regression.predict(X_test)\n",
    "print(\"Predicted labels for the test set:\", y_pred)\n",
    "accuracy = accuracy_score(y_test, y_pred)\n",
    "conf_matrix = confusion_matrix(y_test, y_pred)\n",
    "classification_rep = classification_report(y_test, y_pred)\n",
    "print(\"Accuracy:\", accuracy * 100, \"%\")\n",
    "print(\"Confusion Matrix:\\n\", conf_matrix)\n",
    "print(\"Classification Report:\\n\", classification_rep)"
   ]
  },
  {
   "cell_type": "markdown",
   "metadata": {},
   "source": [
    "# DATA VISUALIZATION"
   ]
  },
  {
   "cell_type": "code",
   "execution_count": 8,
   "metadata": {},
   "outputs": [
    {
     "data": {
      "image/png": "[encoded data removed]",
      "text/plain": [
       "<Figure size 400x400 with 1 Axes>"
      ]
     },
     "metadata": {},
     "output_type": "display_data"
    }
   ],
   "source": [
    "plt.figure(figsize=(4, 4))\n",
    "sns.heatmap(conf_matrix, annot=True, fmt='d', cmap='Blues', cbar=False,\n",
    "            xticklabels=[\"No diabetic\", \"Prediabetic\", \"Diabetic\"],\n",
    "            yticklabels=[\"No diabetic\", \"Prediabetic\", \"Diabetic\"])\n",
    "plt.xlabel('Predicted')\n",
    "plt.ylabel('Actual')\n",
    "plt.title('Confusion Matrix Heatmap for Logistic Regression Downsampling')\n",
    "plt.show()"
   ]
  },
  {
   "cell_type": "markdown",
   "metadata": {},
   "source": [
    "# FEATURE RANKING"
   ]
  },
  {
   "cell_type": "code",
   "execution_count": null,
   "metadata": {},
   "outputs": [],
   "source": [
    "abs_coefs = np.abs(Logistic_Regression.coef_[0])\n",
    "sorted_idx = np.argsort(abs_coefs)\n",
    "\n",
    "# Plot the feature importance\n",
    "plt.figure(figsize=(6, 6))\n",
    "plt.barh(range(len(sorted_idx)), abs_coefs[sorted_idx])\n",
    "plt.yticks(range(len(sorted_idx)), [X.columns.tolist()[i] for i in sorted_idx])\n",
    "plt.xlabel('Absolute Coefficient Values')\n",
    "plt.ylabel('Feature')\n",
    "plt.title('Logistic Regression Feature Ranking')\n",
    "plt.show()"
   ]
  }
 ],
 "metadata": {
  "kernelspec": {
   "display_name": "Python 3",
   "language": "python",
   "name": "python3"
  },
  "language_info": {
   "codemirror_mode": {
    "name": "ipython",
    "version": 3
   },
   "file_extension": ".py",
   "mimetype": "text/x-python",
   "name": "python",
   "nbconvert_exporter": "python",
   "pygments_lexer": "ipython3",
   "version": "3.11.9"
  }
 },
 "nbformat": 4,
 "nbformat_minor": 2
}
