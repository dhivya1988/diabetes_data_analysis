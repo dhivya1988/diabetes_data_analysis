{
 "cells": [
  {
   "cell_type": "markdown",
   "metadata": {},
   "source": [
    "# Import libraries"
   ]
  },
  {
   "cell_type": "code",
   "execution_count": 28,
   "metadata": {},
   "outputs": [],
   "source": [
    "import numpy as np\n",
    "import matplotlib.pyplot as plt\n",
    "import pandas as pd\n",
    "from sklearn.metrics import classification_report\n",
    "from sklearn.inspection import permutation_importance\n",
    "from tensorflow.keras.models import Sequential\n",
    "from tensorflow.keras.layers import Dense\n",
    "from sklearn.preprocessing import LabelEncoder\n",
    "from sklearn.preprocessing import StandardScaler\n",
    "import tensorflow as tf\n",
    "from sklearn.metrics import accuracy_score, confusion_matrix"
   ]
  },
  {
   "cell_type": "markdown",
   "metadata": {},
   "source": [
    "# Import dataset"
   ]
  },
  {
   "cell_type": "code",
   "execution_count": 29,
   "metadata": {},
   "outputs": [],
   "source": [
    "df = pd.read_csv('C:\\\\Users\\\\Nithya\\\\Desktop\\\\Major project\\\\Dataset\\\\diabetes_012_health_indicators_BRFSS2015.csv')"
   ]
  },
  {
   "cell_type": "markdown",
   "metadata": {},
   "source": [
    "# Data preprocessing"
   ]
  },
  {
   "cell_type": "markdown",
   "metadata": {},
   "source": [
    "## Check data imbalance"
   ]
  },
  {
   "cell_type": "code",
   "execution_count": 30,
   "metadata": {},
   "outputs": [
    {
     "name": "stdout",
     "output_type": "stream",
     "text": [
      "Number of unique values present to identify diabetes\n",
      "Diabetes_012\n",
      "0.0    213703\n",
      "2.0     35346\n",
      "1.0      4631\n",
      "Name: count, dtype: int64\n"
     ]
    }
   ],
   "source": [
    "print('Number of unique values present to identify diabetes')\n",
    "print(df['Diabetes_012'].value_counts())"
   ]
  },
  {
   "cell_type": "markdown",
   "metadata": {},
   "source": [
    "## Data split"
   ]
  },
  {
   "cell_type": "code",
   "execution_count": 31,
   "metadata": {},
   "outputs": [],
   "source": [
    "dfs = {}  # Dictionary to hold DataFrames\n",
    "\n",
    "for i in range(3):\n",
    "    dfs[f'df_{i}'] = df[df['Diabetes_012'] == i]"
   ]
  },
  {
   "cell_type": "code",
   "execution_count": 32,
   "metadata": {},
   "outputs": [],
   "source": [
    "from sklearn.model_selection import train_test_split\n",
    "train_df_0, test_df_0 = train_test_split(dfs['df_0'], test_size=0.2)\n",
    "train_df_1, test_df_1 = train_test_split(dfs['df_1'], test_size=0.2)\n",
    "train_df_2, test_df_2 = train_test_split(dfs['df_2'], test_size=0.2)"
   ]
  },
  {
   "cell_type": "code",
   "execution_count": 33,
   "metadata": {},
   "outputs": [],
   "source": [
    "train_combined = pd.concat([train_df_0, train_df_1, train_df_2], ignore_index=True)\n",
    "test_combined = pd.concat([test_df_0, test_df_1, test_df_2], ignore_index=True)"
   ]
  },
  {
   "cell_type": "code",
   "execution_count": 34,
   "metadata": {},
   "outputs": [
    {
     "name": "stdout",
     "output_type": "stream",
     "text": [
      "Diabetes_012\n",
      "0.0    170962\n",
      "2.0     28276\n",
      "1.0      3704\n",
      "Name: count, dtype: int64\n"
     ]
    }
   ],
   "source": [
    "print(train_combined['Diabetes_012'].value_counts())"
   ]
  },
  {
   "cell_type": "code",
   "execution_count": 35,
   "metadata": {},
   "outputs": [
    {
     "name": "stdout",
     "output_type": "stream",
     "text": [
      "Diabetes_012\n",
      "0.0    42741\n",
      "2.0     7070\n",
      "1.0      927\n",
      "Name: count, dtype: int64\n"
     ]
    }
   ],
   "source": [
    "print(test_combined['Diabetes_012'].value_counts())"
   ]
  },
  {
   "cell_type": "markdown",
   "metadata": {},
   "source": [
    "# Smote oversampling"
   ]
  },
  {
   "cell_type": "code",
   "execution_count": 38,
   "metadata": {},
   "outputs": [
    {
     "name": "stdout",
     "output_type": "stream",
     "text": [
      "Class Distribution:\n",
      "Diabetes_012\n",
      "0.0    170962\n",
      "2.0     28276\n",
      "1.0      3704\n",
      "Name: count, dtype: int64\n",
      "Oversampled Class Distribution:\n",
      "Diabetes_012\n",
      "0.0    170962\n",
      "1.0    170962\n",
      "2.0    170962\n",
      "Name: count, dtype: int64\n"
     ]
    }
   ],
   "source": [
    "from imblearn.over_sampling import SMOTE\n",
    "target_variable = 'Diabetes_012'\n",
    "\n",
    "\n",
    "class_distribution = train_combined[target_variable].value_counts()\n",
    "print(\"Class Distribution:\")\n",
    "print(class_distribution)\n",
    "\n",
    "\n",
    "\n",
    "X = train_combined.drop(columns=[target_variable])\n",
    "y = train_combined[target_variable]\n",
    "\n",
    "desired_samples = {0: 170962, 1: 170962, 2: 170962}\n",
    "smote = SMOTE(sampling_strategy=desired_samples, random_state=42)\n",
    "X_resampled, y_resampled = smote.fit_resample(X, y)\n",
    "\n",
    "\n",
    "df_oversampled = pd.concat([pd.DataFrame(X_resampled), pd.DataFrame(y_resampled, columns=[target_variable])], axis=1)\n",
    "\n",
    "print(\"Oversampled Class Distribution:\")\n",
    "print(df_oversampled[target_variable].value_counts())"
   ]
  },
  {
   "cell_type": "markdown",
   "metadata": {},
   "source": [
    "# ANN"
   ]
  },
  {
   "cell_type": "code",
   "execution_count": 39,
   "metadata": {},
   "outputs": [
    {
     "name": "stdout",
     "output_type": "stream",
     "text": [
      "Epoch 1/10\n",
      "16028/16028 [==============================] - 20s 1ms/step - loss: -1720192.7500 - accuracy: 0.3342 - val_loss: 14414426.0000 - val_accuracy: 0.0230\n",
      "Epoch 2/10\n",
      "16028/16028 [==============================] - 19s 1ms/step - loss: -18995038.0000 - accuracy: 0.3353 - val_loss: 87405424.0000 - val_accuracy: 0.0245\n",
      "Epoch 3/10\n",
      "16028/16028 [==============================] - 18s 1ms/step - loss: -71437960.0000 - accuracy: 0.3356 - val_loss: 261612128.0000 - val_accuracy: 0.0253\n",
      "Epoch 4/10\n",
      "16028/16028 [==============================] - 18s 1ms/step - loss: -177565440.0000 - accuracy: 0.3360 - val_loss: 579113408.0000 - val_accuracy: 0.0255\n",
      "Epoch 5/10\n",
      "16028/16028 [==============================] - 19s 1ms/step - loss: -356421408.0000 - accuracy: 0.3361 - val_loss: 1085570688.0000 - val_accuracy: 0.0255\n",
      "Epoch 6/10\n",
      "16028/16028 [==============================] - 19s 1ms/step - loss: -625088704.0000 - accuracy: 0.3359 - val_loss: 1803522432.0000 - val_accuracy: 0.0262\n",
      "Epoch 7/10\n",
      "16028/16028 [==============================] - 20s 1ms/step - loss: -1001336768.0000 - accuracy: 0.3362 - val_loss: 2798266112.0000 - val_accuracy: 0.0260\n",
      "Epoch 8/10\n",
      "16028/16028 [==============================] - 20s 1ms/step - loss: -1503675520.0000 - accuracy: 0.3361 - val_loss: 4108797696.0000 - val_accuracy: 0.0259\n",
      "Epoch 9/10\n",
      "16028/16028 [==============================] - 19s 1ms/step - loss: -2151216896.0000 - accuracy: 0.3361 - val_loss: 5736985088.0000 - val_accuracy: 0.0262\n",
      "Epoch 10/10\n",
      "16028/16028 [==============================] - 20s 1ms/step - loss: -2954884608.0000 - accuracy: 0.3361 - val_loss: 7747611648.0000 - val_accuracy: 0.0263\n",
      "1586/1586 [==============================] - 2s 1ms/step - loss: 7747611648.0000 - accuracy: 0.0263\n",
      "Accuracy on the test set: 0.0263\n",
      "1586/1586 [==============================] - 2s 1ms/step\n",
      "Accuracy: 2.6252512909456422 %\n",
      "Confusion Matrix:\n",
      " [[  405 42336     0]\n",
      " [    0   927     0]\n",
      " [    1  7069     0]]\n",
      "Classification Report:\n",
      "               precision    recall  f1-score   support\n",
      "\n",
      "         0.0       1.00      0.01      0.02     42741\n",
      "         1.0       0.02      1.00      0.04       927\n",
      "         2.0       0.00      0.00      0.00      7070\n",
      "\n",
      "    accuracy                           0.03     50738\n",
      "   macro avg       0.34      0.34      0.02     50738\n",
      "weighted avg       0.84      0.03      0.02     50738\n",
      "\n"
     ]
    },
    {
     "name": "stderr",
     "output_type": "stream",
     "text": [
      "C:\\Users\\Nithya\\AppData\\Local\\Packages\\PythonSoftwareFoundation.Python.3.11_qbz5n2kfra8p0\\LocalCache\\local-packages\\Python311\\site-packages\\sklearn\\metrics\\_classification.py:1334: UndefinedMetricWarning: Precision and F-score are ill-defined and being set to 0.0 in labels with no predicted samples. Use `zero_division` parameter to control this behavior.\n",
      "  _warn_prf(average, modifier, msg_start, len(result))\n",
      "C:\\Users\\Nithya\\AppData\\Local\\Packages\\PythonSoftwareFoundation.Python.3.11_qbz5n2kfra8p0\\LocalCache\\local-packages\\Python311\\site-packages\\sklearn\\metrics\\_classification.py:1334: UndefinedMetricWarning: Precision and F-score are ill-defined and being set to 0.0 in labels with no predicted samples. Use `zero_division` parameter to control this behavior.\n",
      "  _warn_prf(average, modifier, msg_start, len(result))\n",
      "C:\\Users\\Nithya\\AppData\\Local\\Packages\\PythonSoftwareFoundation.Python.3.11_qbz5n2kfra8p0\\LocalCache\\local-packages\\Python311\\site-packages\\sklearn\\metrics\\_classification.py:1334: UndefinedMetricWarning: Precision and F-score are ill-defined and being set to 0.0 in labels with no predicted samples. Use `zero_division` parameter to control this behavior.\n",
      "  _warn_prf(average, modifier, msg_start, len(result))\n"
     ]
    }
   ],
   "source": [
    "#classifier = \n",
    "#lassifier.fit(X_resampled, y_resampled)\n",
    "\n",
    "model = Sequential()\n",
    "model.add(Dense(64, input_dim=X_resampled.shape[1], activation='relu'))\n",
    "model.add(Dense(32, activation='relu'))\n",
    "model.add(Dense(1, activation='sigmoid'))\n",
    "\n",
    "\n",
    "model.compile(optimizer='adam', loss='binary_crossentropy', metrics=['accuracy'])\n",
    "\n",
    "X_test = test_combined.drop(columns=[target_variable])\n",
    "y_test = test_combined[target_variable]\n",
    "\n",
    "\n",
    "model.fit(X_resampled, y_resampled, epochs=10, batch_size=32, validation_data=(X_test, y_test))\n",
    "\n",
    "\n",
    "\n",
    "accuracy = model.evaluate(X_test, y_test)[1]\n",
    "print(f\"Accuracy on the test set: {accuracy:.4f}\")\n",
    "\n",
    "y_pred_prob = model.predict(X_test)\n",
    "y_pred = (y_pred_prob > 0.5).astype(int)\n",
    "accuracy = accuracy_score(y_test, y_pred)\n",
    "conf_matrix = confusion_matrix(y_test, y_pred)\n",
    "classification_rep = classification_report(y_test, y_pred)\n",
    "print(\"Accuracy:\", accuracy * 100, \"%\")\n",
    "print(\"Confusion Matrix:\\n\", conf_matrix)\n",
    "print(\"Classification Report:\\n\", classification_rep)"
   ]
  },
  {
   "cell_type": "markdown",
   "metadata": {},
   "source": [
    "# Predict test result"
   ]
  },
  {
   "cell_type": "code",
   "execution_count": 40,
   "metadata": {},
   "outputs": [],
   "source": [
    "X_test = test_combined.drop(columns=[target_variable])\n",
    "y_test = test_combined[target_variable]"
   ]
  },
  {
   "cell_type": "code",
   "execution_count": 42,
   "metadata": {},
   "outputs": [
    {
     "name": "stdout",
     "output_type": "stream",
     "text": [
      "1586/1586 [==============================] - 1s 690us/step\n"
     ]
    }
   ],
   "source": [
    "y_pred = model.predict(X_test)"
   ]
  },
  {
   "cell_type": "markdown",
   "metadata": {},
   "source": [
    "# Confusion matrix"
   ]
  },
  {
   "cell_type": "code",
   "execution_count": 43,
   "metadata": {},
   "outputs": [
    {
     "name": "stdout",
     "output_type": "stream",
     "text": [
      "[[  405 42336     0]\n",
      " [    0   927     0]\n",
      " [    1  7069     0]]\n",
      "Classification Report:\n",
      "               precision    recall  f1-score   support\n",
      "\n",
      "         0.0       1.00      0.01      0.02     42741\n",
      "         1.0       0.02      1.00      0.04       927\n",
      "         2.0       0.00      0.00      0.00      7070\n",
      "\n",
      "    accuracy                           0.03     50738\n",
      "   macro avg       0.34      0.34      0.02     50738\n",
      "weighted avg       0.84      0.03      0.02     50738\n",
      "\n"
     ]
    },
    {
     "name": "stderr",
     "output_type": "stream",
     "text": [
      "C:\\Users\\Nithya\\AppData\\Local\\Packages\\PythonSoftwareFoundation.Python.3.11_qbz5n2kfra8p0\\LocalCache\\local-packages\\Python311\\site-packages\\sklearn\\metrics\\_classification.py:1334: UndefinedMetricWarning: Precision and F-score are ill-defined and being set to 0.0 in labels with no predicted samples. Use `zero_division` parameter to control this behavior.\n",
      "  _warn_prf(average, modifier, msg_start, len(result))\n",
      "C:\\Users\\Nithya\\AppData\\Local\\Packages\\PythonSoftwareFoundation.Python.3.11_qbz5n2kfra8p0\\LocalCache\\local-packages\\Python311\\site-packages\\sklearn\\metrics\\_classification.py:1334: UndefinedMetricWarning: Precision and F-score are ill-defined and being set to 0.0 in labels with no predicted samples. Use `zero_division` parameter to control this behavior.\n",
      "  _warn_prf(average, modifier, msg_start, len(result))\n",
      "C:\\Users\\Nithya\\AppData\\Local\\Packages\\PythonSoftwareFoundation.Python.3.11_qbz5n2kfra8p0\\LocalCache\\local-packages\\Python311\\site-packages\\sklearn\\metrics\\_classification.py:1334: UndefinedMetricWarning: Precision and F-score are ill-defined and being set to 0.0 in labels with no predicted samples. Use `zero_division` parameter to control this behavior.\n",
      "  _warn_prf(average, modifier, msg_start, len(result))\n"
     ]
    }
   ],
   "source": [
    "from sklearn.metrics import confusion_matrix, accuracy_score\n",
    "cm = confusion_matrix(y_test, y_pred)\n",
    "print(cm)\n",
    "accuracy_score(y_test, y_pred)\n",
    "classification_rep = classification_report(y_test, y_pred)\n",
    "print(\"Classification Report:\\n\", classification_rep)"
   ]
  },
  {
   "cell_type": "markdown",
   "metadata": {},
   "source": [
    "# Data visualisation"
   ]
  },
  {
   "cell_type": "code",
   "execution_count": null,
   "metadata": {},
   "outputs": [],
   "source": [
    "custom_labels = ['No diabetes', 'Prediabetes', 'Diabetes']\n",
    "import seaborn as sns\n",
    "sns.heatmap(cm, annot=True, fmt=\"d\", cmap=\"Blues\", cbar=False, xticklabels=custom_labels, yticklabels=custom_labels)\n",
    "plt.xlabel(\"Predicted\")\n",
    "plt.ylabel(\"True\")\n",
    "plt.title(\"Confusion Matrix\")"
   ]
  },
  {
   "cell_type": "markdown",
   "metadata": {},
   "source": [
    "# Feature ranking"
   ]
  },
  {
   "cell_type": "code",
   "execution_count": null,
   "metadata": {},
   "outputs": [],
   "source": [
    "weights, biases = model.layers[0].get_weights()\n",
    "\n",
    "# Calculate weight magnitudes\n",
    "weight_magnitudes = np.sum(np.abs(weights), axis=1)  # Sum of absolute weights along the features\n",
    "\n",
    "# Sort indices based on weight magnitudes\n",
    "sorted_idx = np.argsort(weight_magnitudes)\n",
    "\n",
    "# Map indices to feature names\n",
    "sorted_feature_names = [column_names[i] for i in sorted_idx]\n",
    "\n",
    "# Plot the feature importance with feature names\n",
    "plt.figure(figsize=(6, 6))\n",
    "plt.barh(range(len(sorted_idx)), weight_magnitudes[sorted_idx])\n",
    "plt.yticks(range(len(sorted_idx)), sorted_feature_names)\n",
    "plt.xlabel('Weight Magnitude')\n",
    "plt.ylabel('Feature')\n",
    "plt.title('ANN Feature Importance (Weight Magnitudes)')\n",
    "plt.show()"
   ]
  }
 ],
 "metadata": {
  "kernelspec": {
   "display_name": "Python 3",
   "language": "python",
   "name": "python3"
  },
  "language_info": {
   "codemirror_mode": {
    "name": "ipython",
    "version": 3
   },
   "file_extension": ".py",
   "mimetype": "text/x-python",
   "name": "python",
   "nbconvert_exporter": "python",
   "pygments_lexer": "ipython3",
   "version": "3.11.9"
  }
 },
 "nbformat": 4,
 "nbformat_minor": 2
}
